{
 "cells": [
  {
   "cell_type": "code",
   "execution_count": 9,
   "metadata": {},
   "outputs": [],
   "source": [
    "import numpy as np\n",
    "from scipy.linalg import inv, eig\n",
    "import cvxpy as cp\n",
    "\n",
    "\n",
    "\n",
    "from src.data_driven import Plant, Cloud\n",
    "\n",
    "from src.constants import (As, Bs) # system model\n",
    "from src.constants import (T, KEY_RANGE, \n",
    "                       EPSILON_RANGE, INPUT_RANGE,\n",
    "                         INITIAL_STATE_RANGE, MAX_DISTURBANCE)"
   ]
  },
  {
   "cell_type": "code",
   "execution_count": 10,
   "metadata": {},
   "outputs": [
    {
     "name": "stdout",
     "output_type": "stream",
     "text": [
      "Trajectory length for generating data: 20\n",
      "Input range for the system: 5\n",
      "Initial state range for the system: 2.5\n",
      "Key range for random matrices F1 and G1: 1\n",
      "Maximum for disturbance: 0\n"
     ]
    }
   ],
   "source": [
    "\n",
    "def print_experiment_parameters():\n",
    "    \"\"\"\n",
    "    Prints the system and experiment parameters.\n",
    "    \"\"\"\n",
    "    print(f\"Trajectory length for generating data: {T}\")\n",
    "    print(f\"Input range for the system: {INPUT_RANGE}\")\n",
    "    print(f\"Initial state range for the system: {INITIAL_STATE_RANGE}\")\n",
    "    print(f\"Key range for random matrices F1 and G1: {KEY_RANGE}\")\n",
    "    print(f\"Maximum for disturbance: {MAX_DISTURBANCE}\")\n",
    "\n",
    "\n",
    "\n",
    "\n",
    "# System and experiment parameters\n",
    "print_experiment_parameters()"
   ]
  },
  {
   "cell_type": "code",
   "execution_count": 11,
   "metadata": {},
   "outputs": [],
   "source": [
    "# initializing plant and cloud \n",
    "plant = Plant(As, Bs)\n",
    "cloud = Cloud()\n"
   ]
  },
  {
   "cell_type": "code",
   "execution_count": 12,
   "metadata": {},
   "outputs": [],
   "source": [
    "n = plant.num_states # number of states\n",
    "m = plant.num_inputs # number of inputs\n",
    "\n",
    "Kbar = np.zeros((m, n)) # place holder for Kbar\n",
    "epsilon_results = np.zeros((len(EPSILON_RANGE), 1)) # place holder for epsilon_result"
   ]
  },
  {
   "cell_type": "code",
   "execution_count": 13,
   "metadata": {},
   "outputs": [],
   "source": [
    "\"\"\"\n",
    "What we do:\n",
    "1) collect data (X1, X0, U0) from a system\n",
    "2) generate the keys F1 and G1 for transforming the collected data \n",
    "3) Using the matrices F1 and G1 transform the collected data \n",
    "\"\"\"\n",
    "\n",
    "\n",
    "X1, X0, U0, D0 = plant.collecting_trajectories( \n",
    "                        T, INPUT_RANGE, INITIAL_STATE_RANGE, MAX_DISTURBANCE)\n",
    "F1, G1 = plant.key_generation(n, m, KEY_RANGE)\n",
    "X1_tilde, X0_tilde, V0 = plant.transforming_data(X1, X0, U0, F1, G1)\n"
   ]
  },
  {
   "cell_type": "code",
   "execution_count": 14,
   "metadata": {},
   "outputs": [],
   "source": [
    "\"\"\"\n",
    "What Cloud does:\n",
    "1) receives the transformed data X1, X0, V0\n",
    "2) solves an optimization to get the controller Kbar\n",
    "and epsilonbar  \n",
    "\"\"\"\n",
    "\n",
    "\n",
    "bA, bB, bC, bQ = cloud.ellipsoid_parameters(X1_tilde, X0_tilde,\n",
    "                                                    V0, MAX_DISTURBANCE)\n",
    "\n",
    "for ep, epsilon in enumerate(EPSILON_RANGE):\n",
    "\n",
    "    try:\n",
    "        prob, P, Y = cloud.get_controller_cvxpy(bA, bB, bC, epsilon)\n",
    "        if prob.status == \"infeasible\":\n",
    "            epsilon_results[[ep], [0]] = -1\n",
    "        else:\n",
    "            epsilon_results[[ep], [0]] = epsilon\n",
    "            Kbar = Y @ inv(P)\n",
    "    except:\n",
    "        epsilon_results[[ep], [0]] = -1 # for any other reason we get a flag\n",
    "\n",
    "\n",
    "\n",
    "eps_bar = np.max(epsilon_results, axis=0).reshape(-1,1)\n",
    "        \n",
    "                                                                           "
   ]
  },
  {
   "cell_type": "code",
   "execution_count": 15,
   "metadata": {},
   "outputs": [
    {
     "name": "stdout",
     "output_type": "stream",
     "text": [
      "epsilonbar received from Cloud: [[0.04]]\n",
      "      Controller received from Cloud: [[-0.90984865 -0.30781933 -1.3193689   0.13786905]\n",
      " [ 4.22643558  0.09468397  2.25648967 -3.01372547]]\n",
      "      Controller for the system: [[ 0.94326801 -1.2143985   0.38951844 -1.77891756]\n",
      " [ 4.90371504 -0.12059297  3.29784135 -3.11565003]]\n",
      "      Absolute value of eigenvalues for the closed-loop system: [0.02150225 0.24275074 0.46028111 0.51228674]\n",
      "      Max eigen value: 0.5122867377255262\n",
      "       \n"
     ]
    }
   ],
   "source": [
    "\n",
    "K = F1 + (np.eye(m) + G1) @ Kbar\n",
    "eig_closed_loop = np.abs(eig(As + Bs @ K,  left=False, right=False))\n",
    "\n",
    "\n",
    "print(f\"\"\"epsilonbar received from Cloud: {eps_bar}\n",
    "      Controller received from Cloud: {Kbar}\n",
    "      Controller for the system: {K}\n",
    "      Absolute value of eigenvalues for the closed-loop system: {eig_closed_loop}\n",
    "      Max eigen value: {np.max(eig_closed_loop)}\n",
    "       \"\"\")\n"
   ]
  },
  {
   "cell_type": "code",
   "execution_count": 16,
   "metadata": {},
   "outputs": [],
   "source": [
    "# save the date; we need it to simulate the bias injection attack case;\n",
    "#  see the corresponding notebook\n",
    "np.savez(\"clean_data_epsilon_bar\",\n",
    "          F1 = F1,\n",
    "          G1 = G1,\n",
    "          K_bar = Kbar,\n",
    "          eps_bar = eps_bar,\n",
    "          T = T,\n",
    "          key_range = KEY_RANGE,\n",
    "          input_range = INPUT_RANGE,\n",
    "          initial_state_range = INITIAL_STATE_RANGE\n",
    "          )\n"
   ]
  }
 ],
 "metadata": {
  "kernelspec": {
   "display_name": "venv",
   "language": "python",
   "name": "python3"
  },
  "language_info": {
   "codemirror_mode": {
    "name": "ipython",
    "version": 3
   },
   "file_extension": ".py",
   "mimetype": "text/x-python",
   "name": "python",
   "nbconvert_exporter": "python",
   "pygments_lexer": "ipython3",
   "version": "3.8.10"
  }
 },
 "nbformat": 4,
 "nbformat_minor": 2
}
