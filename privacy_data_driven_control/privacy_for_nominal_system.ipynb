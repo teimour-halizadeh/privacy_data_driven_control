{
 "cells": [
  {
   "cell_type": "code",
   "execution_count": 33,
   "metadata": {},
   "outputs": [],
   "source": [
    "import numpy as np\n",
    "from scipy.linalg import inv, eig\n",
    "import cvxpy as cp\n",
    "\n",
    "\n",
    "\n",
    "from src.data_driven import Plant, Cloud\n",
    "\n",
    "from src.constants import (As, Bs) # system model\n",
    "from src.constants import (T, KEY_RANGE, \n",
    "                       GAMMA_RANGE, INPUT_RANGE,\n",
    "                         INITIAL_STATE_RANGE, MAX_DISTURBANCE)"
   ]
  },
  {
   "cell_type": "code",
   "execution_count": 34,
   "metadata": {},
   "outputs": [
    {
     "name": "stdout",
     "output_type": "stream",
     "text": [
      "Trajectory length for generating data: 20\n",
      "Input range for the system: 5\n",
      "Initial state range for the system: 2.5\n",
      "Key range for random matrices F1 and G1: 1\n",
      "Maximum for disturbance: 0\n"
     ]
    }
   ],
   "source": [
    "\n",
    "def print_experiment_parameters():\n",
    "    \"\"\"\n",
    "    Prints the system and experiment parameters.\n",
    "    \"\"\"\n",
    "    print(f\"Trajectory length for generating data: {T}\")\n",
    "    print(f\"Input range for the system: {INPUT_RANGE}\")\n",
    "    print(f\"Initial state range for the system: {INITIAL_STATE_RANGE}\")\n",
    "    print(f\"Key range for random matrices F1 and G1: {KEY_RANGE}\")\n",
    "    print(f\"Maximum for disturbance: {MAX_DISTURBANCE}\")\n",
    "\n",
    "\n",
    "\n",
    "\n",
    "# System and experiment parameters\n",
    "print_experiment_parameters()"
   ]
  },
  {
   "cell_type": "code",
   "execution_count": 35,
   "metadata": {},
   "outputs": [],
   "source": [
    "# initializing plant and cloud \n",
    "plant = Plant(As, Bs)\n",
    "cloud = Cloud()\n"
   ]
  },
  {
   "cell_type": "code",
   "execution_count": 36,
   "metadata": {},
   "outputs": [],
   "source": [
    "n = plant.num_states # number of states\n",
    "m = plant.num_inputs # number of inputs\n",
    "\n",
    "Kbar = np.zeros((m, n)) # place holder for Kbar\n",
    "gamma_results = np.zeros((len(GAMMA_RANGE), 1)) # place holder for gamma_result"
   ]
  },
  {
   "cell_type": "code",
   "execution_count": 37,
   "metadata": {},
   "outputs": [],
   "source": [
    "\"\"\"\n",
    "What we do:\n",
    "1) collect data (X1, X0, U0) from a system\n",
    "2) generate the keys F1 and G1 for transforming the collected data \n",
    "3) Using the matrices F1 and G1 transform the collected data \n",
    "\"\"\"\n",
    "\n",
    "\n",
    "X1, X0, U0, D0 = plant.collecting_trajectories( \n",
    "                        T, INPUT_RANGE, INITIAL_STATE_RANGE, MAX_DISTURBANCE)\n",
    "F1, G1 = plant.key_generation(n, m, KEY_RANGE)\n",
    "X1_tilde, X0_tilde, V0 = plant.transforming_data(X1, X0, U0, F1, G1)\n"
   ]
  },
  {
   "cell_type": "code",
   "execution_count": 38,
   "metadata": {},
   "outputs": [],
   "source": [
    "\"\"\"\n",
    "What Cloud does:\n",
    "1) receives the transformed data X1, X0, V0\n",
    "2) solves an optimization to get the controller Kbar\n",
    "and gamma bar  \n",
    "\"\"\"\n",
    "\n",
    "\n",
    "bA, bB, bC, bQ = cloud.ellipsoid_parameters(X1_tilde, X0_tilde,\n",
    "                                                    V0, MAX_DISTURBANCE)\n",
    "\n",
    "for gam, gamma in enumerate(GAMMA_RANGE):\n",
    "\n",
    "    try:\n",
    "        prob, P, Y = cloud.get_controller_cvxpy(bA, bB, bC, gamma)\n",
    "        if prob.status == \"infeasible\":\n",
    "            gamma_results[[gam], [0]] = -1\n",
    "        else:\n",
    "            gamma_results[[gam], [0]] = gamma\n",
    "            Kbar = Y @ inv(P)\n",
    "    except:\n",
    "        gamma_results[[gam], [0]] = -1 # for any other reason we get a flag\n",
    "\n",
    "\n",
    "\n",
    "gamma_bar = np.max(gamma_results, axis=0).reshape(-1,1)\n",
    "        \n",
    "                                                                           "
   ]
  },
  {
   "cell_type": "code",
   "execution_count": 39,
   "metadata": {},
   "outputs": [
    {
     "name": "stdout",
     "output_type": "stream",
     "text": [
      "gamma bar received from Cloud: [[0.033]]\n",
      "      Controller received from Cloud: [[ 1.06343425 -0.07681454  0.67479937 -1.67547003]\n",
      " [ 4.39809992  0.45367691  3.63600996 -3.62499725]]\n",
      "      Controller for the system: [[ 1.01286046 -1.09178629  0.31932924 -1.91349743]\n",
      " [ 5.13385276 -0.56140514  3.25197552 -4.01291752]]\n",
      "      Absolute value of eigenvalues for the closed-loop system: [2.85596598e-06 4.98001224e-01 3.92873195e-01 3.92873195e-01]\n",
      "      Max eigen value: 0.4980012236788137\n",
      "       \n"
     ]
    }
   ],
   "source": [
    "\n",
    "K = F1 + (np.eye(m) + G1) @ Kbar\n",
    "eig_closed_loop = np.abs(eig(As + Bs @ K,  left=False, right=False))\n",
    "\n",
    "\n",
    "print(f\"\"\"gamma bar received from Cloud: {gamma_bar}\n",
    "      Controller received from Cloud: {Kbar}\n",
    "      Controller for the system: {K}\n",
    "      Absolute value of eigenvalues for the closed-loop system: {eig_closed_loop}\n",
    "      Max eigen value: {np.max(eig_closed_loop)}\n",
    "       \"\"\")\n"
   ]
  },
  {
   "cell_type": "code",
   "execution_count": 40,
   "metadata": {},
   "outputs": [],
   "source": [
    "# save the date; we need it to simulate the bias injection attack case;\n",
    "#  see the corresponding notebook\n",
    "np.savez(\"clean_data_gamma_bar\",\n",
    "          F1 = F1,\n",
    "          G1 = G1,\n",
    "          K_bar = Kbar,\n",
    "          gamma_bar = gamma_bar,\n",
    "          T = T,\n",
    "          key_range = KEY_RANGE,\n",
    "          input_range = INPUT_RANGE,\n",
    "          initial_state_range = INITIAL_STATE_RANGE\n",
    "          )\n"
   ]
  }
 ],
 "metadata": {
  "kernelspec": {
   "display_name": "venv",
   "language": "python",
   "name": "python3"
  },
  "language_info": {
   "codemirror_mode": {
    "name": "ipython",
    "version": 3
   },
   "file_extension": ".py",
   "mimetype": "text/x-python",
   "name": "python",
   "nbconvert_exporter": "python",
   "pygments_lexer": "ipython3",
   "version": "3.8.10"
  }
 },
 "nbformat": 4,
 "nbformat_minor": 2
}
