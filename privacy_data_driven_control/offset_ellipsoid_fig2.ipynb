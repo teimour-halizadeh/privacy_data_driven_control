{
 "cells": [
  {
   "cell_type": "code",
   "execution_count": 104,
   "metadata": {},
   "outputs": [],
   "source": [
    "import numpy as np\n",
    "from scipy.linalg import inv, norm\n",
    "import matplotlib as mpl\n",
    "import matplotlib.pyplot as plt\n",
    "\n",
    "from src.constants import (A_INV_12, ZETA, EPS_VAL, TRUE_SYSTEM)\n"
   ]
  },
  {
   "cell_type": "markdown",
   "metadata": {},
   "source": [
    "This Notebook plots the ellipsoid and its offset in the paper (Figure 2).\n",
    "\n",
    "The offset for the ellipsoid is the special case of what we have presented as\n",
    "$\\mathcal{S}$ in Lemma 5 since essentially we are working in the Euclidean space. "
   ]
  },
  {
   "cell_type": "code",
   "execution_count": 105,
   "metadata": {},
   "outputs": [],
   "source": [
    "def create_ellipsoid_and_offset(Ainv_12: np.ndarray, zeta: np.ndarray, eps_val: float,\n",
    "                                 true_system: float,  T: int =5000)->tuple:\n",
    "    \"\"\"\n",
    "    Generates the coordinates of an ellipsoid and its offset version in a 2D space.\n",
    "\n",
    "    Parameters:\n",
    "        Ainv_12 (np.ndarray): The inverse of the ellipsoid's shape matrix.\n",
    "        zeta (np.ndarray): The center of the ellipsoid.\n",
    "        eps_val (float): The offset magnitude.\n",
    "        T (int): The number of points used to create the ellipsoid. Default is 5000.\n",
    "\n",
    "    Returns:\n",
    "        Eb (np.ndarray): Coordinates of the ellipsoid.\n",
    "        Eoff (np.ndarray): Coordinates of the offset ellipsoid.\n",
    "    \"\"\"\n",
    "\n",
    "\n",
    "    t = np.linspace(0, 2 * np.pi, T)\n",
    "    tx = np.cos(t).reshape(1, -1)\n",
    "    ty = np.sin(t).reshape(1, -1)\n",
    "    unit_circle = np.vstack((tx, ty))\n",
    "\n",
    "\n",
    "    # place holders for the ellipsoid and the offset for ellipsoid \n",
    "    Eb = np.zeros((2 , T))\n",
    "    Eoff = np.zeros((2, T))\n",
    "\n",
    "\n",
    "    for i in range(T):\n",
    "\n",
    "        z = unit_circle[:, [i]]\n",
    "        \n",
    "        # This is our ellipse\n",
    "        Eb[:, [i]] = (Ainv_12 @ z) \n",
    "\n",
    "\n",
    "        # scale factor \n",
    "        scale_factor = eps_val * inv(Ainv_12)/(norm((inv(Ainv_12) @ z)))\n",
    "        # The offset for the ellipse\n",
    "        Eoff[:, [i]] = (Ainv_12 @ z) + scale_factor @ z \n",
    "\n",
    "\n",
    "    # Here we shift the data\n",
    "    Eb +=  zeta\n",
    "    Eoff +=  zeta\n",
    "\n",
    "   \n",
    "    # epsilon neighborhood for Z_star\n",
    "    eps_neigh = eps_val*unit_circle + true_system\n",
    "    return Eb, Eoff, eps_neigh "
   ]
  },
  {
   "cell_type": "code",
   "execution_count": 106,
   "metadata": {},
   "outputs": [],
   "source": [
    "\n",
    "  \n",
    "Eb, Eoff, eps_neigh = create_ellipsoid_and_offset(A_INV_12, ZETA, EPS_VAL, TRUE_SYSTEM)"
   ]
  },
  {
   "cell_type": "code",
   "execution_count": 107,
   "metadata": {},
   "outputs": [
    {
     "data": {
      "image/png": "[encoded data removed]",
      "text/plain": [
       "<Figure size 640x480 with 1 Axes>"
      ]
     },
     "metadata": {},
     "output_type": "display_data"
    }
   ],
   "source": [
    "''' \n",
    "It seems that Matplotlib behaves unexpectedly when plt.fill is used.\n",
    "We have noticed that it shrinks the elliposids!\n",
    "For now, we had to carefully tune the coordinates.\n",
    "We leave having a better approach to future.   \n",
    "'''\n",
    "\n",
    "\n",
    "\n",
    "# Set the font settings\n",
    "mpl.rcParams['pdf.fonttype'] = 42\n",
    "mpl.rcParams['ps.fonttype'] = 42\n",
    "mpl.rc('text', usetex=True)\n",
    "mpl.rc('font', family='serif')\n",
    "\n",
    "\n",
    "fig = plt.figure()\n",
    "ax = fig.subplots(1,1)\n",
    "\n",
    "# Plot the ellipsoid and offset ellipsoid\n",
    "ax.fill(Eb[0, :], Eb[1, :], alpha=0.6, facecolor='blue', label=r\" $\\tilde{\\mathcal{C}}$\", lw=5)\n",
    "ax.fill(Eoff[0, :], Eoff[1, :], alpha=0.4, facecolor='red', label=r\" $\\tilde{{C}}(\\epsilon)$\")\n",
    "\n",
    "\n",
    "# # try the scatter plot\n",
    "# ax.scatter(Eb[0,:], Eb[1,:])\n",
    "\n",
    "# Plot the true system\n",
    "ax.fill(eps_neigh[0, :]+0.015, eps_neigh[1, :]+0.001, alpha=0.5,  facecolor='green', label=r\" $\\epsilon$-neigh.\")\n",
    "ax.text(TRUE_SYSTEM[0], TRUE_SYSTEM[1]-0.001, s=r'${\\bullet}$', fontsize='small')\n",
    "ax.text(TRUE_SYSTEM[0]-0.1, TRUE_SYSTEM[1]-0.01, s=r'$Z_{\\star}$', fontsize='large')\n",
    "\n",
    "\n",
    "\n",
    "# Add arrows and annotations\n",
    "ax.arrow(TRUE_SYSTEM[0][0]+0.0125, TRUE_SYSTEM[1][0], dx=0, dy=0.03, length_includes_head=True, head_width=0.0)\n",
    "ax.text(x=1.05, y=1.05, s=r'$\\epsilon$', fontsize='large')\n",
    "\n",
    "# ax.arrow(x=2, y=1, dx=0.2, dy=0, length_includes_head=True, head_width=0.015)\n",
    "# ax.text(x=2.05, y=1.02, s=r'$\\epsilon$', fontsize='large')\n",
    "\n",
    "# Set axis labels and limits\n",
    "ax.set(xlabel=r\"$A$\", ylabel=r\"$B$\", ylim=(0.8, 1.2), xlim=(-0.3, 2.3))\n",
    "ax.legend()\n",
    "\n",
    "plt.tight_layout()\n",
    "fig.savefig(\"offset.pdf\", transparent=True)\n",
    "plt.show()\n"
   ]
  }
 ],
 "metadata": {
  "kernelspec": {
   "display_name": "venv",
   "language": "python",
   "name": "python3"
  },
  "language_info": {
   "codemirror_mode": {
    "name": "ipython",
    "version": 3
   },
   "file_extension": ".py",
   "mimetype": "text/x-python",
   "name": "python",
   "nbconvert_exporter": "python",
   "pygments_lexer": "ipython3",
   "version": "3.8.10"
  }
 },
 "nbformat": 4,
 "nbformat_minor": 2
}
