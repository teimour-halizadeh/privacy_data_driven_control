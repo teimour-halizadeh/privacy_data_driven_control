{
 "cells": [
  {
   "cell_type": "code",
   "execution_count": 1,
   "metadata": {},
   "outputs": [],
   "source": [
    "import numpy as np\n",
    "from scipy.linalg import inv, norm\n",
    "import matplotlib as mpl\n",
    "import matplotlib.pyplot as plt\n",
    "\n",
    "from src.constants import (A_INV_12, ZETA, EPS_VAL)\n"
   ]
  },
  {
   "cell_type": "markdown",
   "metadata": {},
   "source": [
    "This Notebook plots the ellipsoid and its offset in the paper (Figure 2).\n",
    "\n",
    "The offset for the ellipsoid is the special case of what we have presented as\n",
    "$\\mathcal{S}$ in Lemma 5 since essentially we are working in the Euclidean space. "
   ]
  },
  {
   "cell_type": "code",
   "execution_count": 2,
   "metadata": {},
   "outputs": [],
   "source": [
    "def create_ellipsoid_and_offset(Ainv_12: np.ndarray, zeta: np.ndarray, eps_val: float, T: int =5000)->tuple:\n",
    "    \"\"\"\n",
    "    Generates the coordinates of an ellipsoid and its offset version in a 2D space.\n",
    "\n",
    "    Parameters:\n",
    "        Ainv_12 (np.ndarray): The inverse of the ellipsoid's shape matrix.\n",
    "        zeta (np.ndarray): The center of the ellipsoid.\n",
    "        eps_val (float): The offset magnitude.\n",
    "        T (int): The number of points used to create the ellipsoid. Default is 5000.\n",
    "\n",
    "    Returns:\n",
    "        Eb (np.ndarray): Coordinates of the ellipsoid.\n",
    "        Eoff (np.ndarray): Coordinates of the offset ellipsoid.\n",
    "    \"\"\"\n",
    "\n",
    "\n",
    "    t = np.linspace(0, 2 * np.pi, T)\n",
    "    tx = np.cos(t).reshape(1, -1)\n",
    "    ty = np.sin(t).reshape(1, -1)\n",
    "    unit_circle = np.vstack((tx, ty))\n",
    "\n",
    "\n",
    "    # place holders for the ellipsoid and the offset for ellipsoid \n",
    "    Eb = np.zeros((2 , T))\n",
    "    Eoff = np.zeros((2, T))\n",
    "\n",
    "\n",
    "    for i in range(T):\n",
    "\n",
    "        z = unit_circle[:, [i]]\n",
    "        \n",
    "        # This is our ellipse\n",
    "        Eb[:, [i]] = (Ainv_12 @ z) \n",
    "\n",
    "\n",
    "        # scale factor \n",
    "        scale_factor = eps_val * inv(Ainv_12)/(norm((inv(Ainv_12) @ z)))\n",
    "        # The offset for the ellipse\n",
    "        Eoff[:, [i]] = (Ainv_12 @ z) + scale_factor @ z \n",
    "\n",
    "\n",
    "    # Here we shift the data\n",
    "    Eb +=  zeta\n",
    "    Eoff +=  zeta\n",
    "    return Eb, Eoff"
   ]
  },
  {
   "cell_type": "code",
   "execution_count": 3,
   "metadata": {},
   "outputs": [],
   "source": [
    "\n",
    "  \n",
    "Eb, Eoff = create_ellipsoid_and_offset(A_INV_12, ZETA, EPS_VAL)"
   ]
  },
  {
   "cell_type": "code",
   "execution_count": 4,
   "metadata": {},
   "outputs": [
    {
     "data": {
      "image/png": "[encoded data removed]",
      "text/plain": [
       "<Figure size 640x480 with 1 Axes>"
      ]
     },
     "metadata": {},
     "output_type": "display_data"
    }
   ],
   "source": [
    "\n",
    "# Set the font settings\n",
    "mpl.rcParams['pdf.fonttype'] = 42\n",
    "mpl.rcParams['ps.fonttype'] = 42\n",
    "mpl.rc('text', usetex=True)\n",
    "mpl.rc('font', family='serif')\n",
    "\n",
    "\n",
    "fig = plt.figure()\n",
    "ax = fig.subplots(1,1)\n",
    "\n",
    "# Plot the ellipsoid and offset ellipsoid\n",
    "ax.fill(Eb[0, :], Eb[1, :], alpha=0.6, facecolor='blue', label=r\" $\\tilde{\\mathcal{C}}$\")\n",
    "ax.fill(Eoff[0, :], Eoff[1, :], alpha=0.4, facecolor='red', label=r\" $\\tilde{{C}}(\\epsilon)$\")\n",
    "\n",
    "\n",
    "# Plot the true system\n",
    "ax.text(x=1.49, y=1.02, s=r'${\\bullet}$', fontsize='large')\n",
    "ax.text(x=1.39, y=1, s=r'$Z_{\\star}$', fontsize='large')\n",
    "\n",
    "\n",
    "\n",
    "# Add arrows and annotations\n",
    "ax.arrow(x=1, y=1+0.05, dx=0, dy=0.2, length_includes_head=True, head_width=0.015)\n",
    "ax.arrow(x=2, y=1, dx=0.2, dy=0, length_includes_head=True, head_width=0.015)\n",
    "ax.text(x=1.05, y=1.1, s=r'$\\epsilon$', fontsize='large')\n",
    "ax.text(x=2.05, y=1.02, s=r'$\\epsilon$', fontsize='large')\n",
    "\n",
    "# Set axis labels and limits\n",
    "ax.set(xlabel=r\"$A$\", ylabel=r\"$B$\", ylim=(0.5, 1.5))\n",
    "ax.legend()\n",
    "\n",
    "plt.tight_layout()\n",
    "fig.savefig(\"offset.pdf\", transparent=True)\n",
    "plt.show()\n"
   ]
  }
 ],
 "metadata": {
  "kernelspec": {
   "display_name": "venv",
   "language": "python",
   "name": "python3"
  },
  "language_info": {
   "codemirror_mode": {
    "name": "ipython",
    "version": 3
   },
   "file_extension": ".py",
   "mimetype": "text/x-python",
   "name": "python",
   "nbconvert_exporter": "python",
   "pygments_lexer": "ipython3",
   "version": "3.8.10"
  }
 },
 "nbformat": 4,
 "nbformat_minor": 2
}
